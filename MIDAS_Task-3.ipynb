{
 "cells": [
  {
   "cell_type": "markdown",
   "metadata": {},
   "source": [
    "# To classify products into categories using their descriptions.\n",
    "In this try we will try to predict the categories using the TFIDF and Linear SVM algorithm.\n",
    "Limitations: This is only suitable to predict only the parent category of the tree.\n"
   ]
  },
  {
   "cell_type": "markdown",
   "metadata": {},
   "source": [
    "#Importing neccesory liberaries"
   ]
  },
  {
   "cell_type": "code",
   "execution_count": 1,
   "metadata": {},
   "outputs": [],
   "source": [
    "import pandas as pd\n",
    "import numpy as np\n"
   ]
  },
  {
   "cell_type": "code",
   "execution_count": 2,
   "metadata": {},
   "outputs": [],
   "source": [
    "df = pd.read_csv(\"Testdata3.csv\", usecols = ['product_category_tree' , 'description'])"
   ]
  },
  {
   "cell_type": "code",
   "execution_count": 3,
   "metadata": {},
   "outputs": [
    {
     "data": {
      "text/html": [
       "<div>\n",
       "<style scoped>\n",
       "    .dataframe tbody tr th:only-of-type {\n",
       "        vertical-align: middle;\n",
       "    }\n",
       "\n",
       "    .dataframe tbody tr th {\n",
       "        vertical-align: top;\n",
       "    }\n",
       "\n",
       "    .dataframe thead th {\n",
       "        text-align: right;\n",
       "    }\n",
       "</style>\n",
       "<table border=\"1\" class=\"dataframe\">\n",
       "  <thead>\n",
       "    <tr style=\"text-align: right;\">\n",
       "      <th></th>\n",
       "      <th>product_category_tree</th>\n",
       "      <th>description</th>\n",
       "    </tr>\n",
       "  </thead>\n",
       "  <tbody>\n",
       "    <tr>\n",
       "      <th>0</th>\n",
       "      <td>[\"Clothing &gt;&gt; Women's Clothing &gt;&gt; Lingerie, Sl...</td>\n",
       "      <td>Key Features of Alisha Solid Women's Cycling S...</td>\n",
       "    </tr>\n",
       "    <tr>\n",
       "      <th>1</th>\n",
       "      <td>[\"Furniture &gt;&gt; Living Room Furniture &gt;&gt; Sofa B...</td>\n",
       "      <td>FabHomeDecor Fabric Double Sofa Bed (Finish Co...</td>\n",
       "    </tr>\n",
       "    <tr>\n",
       "      <th>2</th>\n",
       "      <td>[\"Footwear &gt;&gt; Women's Footwear &gt;&gt; Ballerinas &gt;...</td>\n",
       "      <td>Key Features of AW Bellies Sandals Wedges Heel...</td>\n",
       "    </tr>\n",
       "    <tr>\n",
       "      <th>3</th>\n",
       "      <td>[\"Clothing &gt;&gt; Women's Clothing &gt;&gt; Lingerie, Sl...</td>\n",
       "      <td>Key Features of Alisha Solid Women's Cycling S...</td>\n",
       "    </tr>\n",
       "    <tr>\n",
       "      <th>4</th>\n",
       "      <td>[\"Pet Supplies &gt;&gt; Grooming &gt;&gt; Skin &amp; Coat Care...</td>\n",
       "      <td>Specifications of Sicons All Purpose Arnica Do...</td>\n",
       "    </tr>\n",
       "  </tbody>\n",
       "</table>\n",
       "</div>"
      ],
      "text/plain": [
       "                               product_category_tree  \\\n",
       "0  [\"Clothing >> Women's Clothing >> Lingerie, Sl...   \n",
       "1  [\"Furniture >> Living Room Furniture >> Sofa B...   \n",
       "2  [\"Footwear >> Women's Footwear >> Ballerinas >...   \n",
       "3  [\"Clothing >> Women's Clothing >> Lingerie, Sl...   \n",
       "4  [\"Pet Supplies >> Grooming >> Skin & Coat Care...   \n",
       "\n",
       "                                         description  \n",
       "0  Key Features of Alisha Solid Women's Cycling S...  \n",
       "1  FabHomeDecor Fabric Double Sofa Bed (Finish Co...  \n",
       "2  Key Features of AW Bellies Sandals Wedges Heel...  \n",
       "3  Key Features of Alisha Solid Women's Cycling S...  \n",
       "4  Specifications of Sicons All Purpose Arnica Do...  "
      ]
     },
     "execution_count": 3,
     "metadata": {},
     "output_type": "execute_result"
    }
   ],
   "source": [
    "df.head()\n"
   ]
  },
  {
   "cell_type": "code",
   "execution_count": 4,
   "metadata": {},
   "outputs": [],
   "source": [
    "df['product_category_tree'] = df['product_category_tree'].apply( lambda x : x.partition(\">\")[0][2:])"
   ]
  },
  {
   "cell_type": "code",
   "execution_count": 5,
   "metadata": {},
   "outputs": [],
   "source": [
    "df['description'] = df['description'].apply(lambda x : str(x).lower())\n"
   ]
  },
  {
   "cell_type": "code",
   "execution_count": 6,
   "metadata": {},
   "outputs": [
    {
     "data": {
      "text/html": [
       "<div>\n",
       "<style scoped>\n",
       "    .dataframe tbody tr th:only-of-type {\n",
       "        vertical-align: middle;\n",
       "    }\n",
       "\n",
       "    .dataframe tbody tr th {\n",
       "        vertical-align: top;\n",
       "    }\n",
       "\n",
       "    .dataframe thead th {\n",
       "        text-align: right;\n",
       "    }\n",
       "</style>\n",
       "<table border=\"1\" class=\"dataframe\">\n",
       "  <thead>\n",
       "    <tr style=\"text-align: right;\">\n",
       "      <th></th>\n",
       "      <th>product_category_tree</th>\n",
       "      <th>description</th>\n",
       "    </tr>\n",
       "  </thead>\n",
       "  <tbody>\n",
       "    <tr>\n",
       "      <th>0</th>\n",
       "      <td>Clothing</td>\n",
       "      <td>key features of alisha solid women's cycling s...</td>\n",
       "    </tr>\n",
       "    <tr>\n",
       "      <th>1</th>\n",
       "      <td>Furniture</td>\n",
       "      <td>fabhomedecor fabric double sofa bed (finish co...</td>\n",
       "    </tr>\n",
       "    <tr>\n",
       "      <th>2</th>\n",
       "      <td>Footwear</td>\n",
       "      <td>key features of aw bellies sandals wedges heel...</td>\n",
       "    </tr>\n",
       "    <tr>\n",
       "      <th>3</th>\n",
       "      <td>Clothing</td>\n",
       "      <td>key features of alisha solid women's cycling s...</td>\n",
       "    </tr>\n",
       "    <tr>\n",
       "      <th>4</th>\n",
       "      <td>Pet Supplies</td>\n",
       "      <td>specifications of sicons all purpose arnica do...</td>\n",
       "    </tr>\n",
       "  </tbody>\n",
       "</table>\n",
       "</div>"
      ],
      "text/plain": [
       "  product_category_tree                                        description\n",
       "0             Clothing   key features of alisha solid women's cycling s...\n",
       "1            Furniture   fabhomedecor fabric double sofa bed (finish co...\n",
       "2             Footwear   key features of aw bellies sandals wedges heel...\n",
       "3             Clothing   key features of alisha solid women's cycling s...\n",
       "4         Pet Supplies   specifications of sicons all purpose arnica do..."
      ]
     },
     "execution_count": 6,
     "metadata": {},
     "output_type": "execute_result"
    }
   ],
   "source": [
    "df.head() \n"
   ]
  },
  {
   "cell_type": "code",
   "execution_count": 7,
   "metadata": {},
   "outputs": [],
   "source": [
    "from sklearn.feature_extraction.text import TfidfVectorizer\n",
    "from sklearn.model_selection import train_test_split\n",
    "from sklearn.svm import LinearSVC\n",
    "from sklearn.metrics import classification_report\n"
   ]
  },
  {
   "cell_type": "code",
   "execution_count": 8,
   "metadata": {},
   "outputs": [],
   "source": [
    "tfidf = TfidfVectorizer(max_features = 20000, ngram_range = (1,3), analyzer ='char')"
   ]
  },
  {
   "cell_type": "code",
   "execution_count": 9,
   "metadata": {},
   "outputs": [],
   "source": [
    "X = tfidf.fit_transform(df['description'])"
   ]
  },
  {
   "cell_type": "code",
   "execution_count": 10,
   "metadata": {},
   "outputs": [],
   "source": [
    "Y = df['product_category_tree']"
   ]
  },
  {
   "cell_type": "code",
   "execution_count": 11,
   "metadata": {},
   "outputs": [],
   "source": [
    "X_train, X_test , Y_train, Y_test = train_test_split(X , Y , test_size = 0.01, random_state = 0)"
   ]
  },
  {
   "cell_type": "code",
   "execution_count": 12,
   "metadata": {},
   "outputs": [],
   "source": [
    "clf = LinearSVC()"
   ]
  },
  {
   "cell_type": "code",
   "execution_count": 13,
   "metadata": {},
   "outputs": [
    {
     "data": {
      "text/plain": [
       "LinearSVC()"
      ]
     },
     "execution_count": 13,
     "metadata": {},
     "output_type": "execute_result"
    }
   ],
   "source": [
    "clf.fit(X_train, Y_train)"
   ]
  },
  {
   "cell_type": "code",
   "execution_count": 14,
   "metadata": {},
   "outputs": [
    {
     "name": "stdout",
     "output_type": "stream",
     "text": [
      "  (0, 3322)\t0.03729752507497014\n",
      "  (0, 19260)\t0.03729752507497014\n",
      "  (0, 7576)\t0.03729752507497014\n",
      "  (0, 3334)\t0.03729752507497014\n",
      "  (0, 9774)\t0.031940122239152116\n",
      "  (0, 12230)\t0.029848140677060892\n",
      "  (0, 10869)\t0.030243183900912927\n",
      "  (0, 2375)\t0.032386474341636724\n",
      "  (0, 7732)\t0.031173411340758777\n",
      "  (0, 14176)\t0.029158499989320876\n",
      "  (0, 8837)\t0.020259657278016065\n",
      "  (0, 3603)\t0.029488524160601465\n",
      "  (0, 9159)\t0.12153602604874372\n",
      "  (0, 1898)\t0.05770713213108693\n",
      "  (0, 18917)\t0.026593851262415105\n",
      "  (0, 9710)\t0.026882683264578974\n",
      "  (0, 14262)\t0.028305483987726015\n",
      "  (0, 4519)\t0.025927747490389775\n",
      "  (0, 4511)\t0.027129717097540147\n",
      "  (0, 10864)\t0.027461561651081687\n",
      "  (0, 8062)\t0.1419589454546377\n",
      "  (0, 10082)\t0.09480910414105154\n",
      "  (0, 2851)\t0.11581063330190566\n",
      "  (0, 3601)\t0.026764644383604642\n",
      "  (0, 19667)\t0.026071943815712224\n",
      "  :\t:\n",
      "  (199, 856)\t0.04176578586745052\n",
      "  (199, 19146)\t0.042674518866546995\n",
      "  (199, 12594)\t0.04447655288309763\n",
      "  (199, 8181)\t0.06140159249759226\n",
      "  (199, 15193)\t0.1006109811309179\n",
      "  (199, 18341)\t0.024383304347647673\n",
      "  (199, 10760)\t0.06115646072204021\n",
      "  (199, 8563)\t0.0805008585244841\n",
      "  (199, 13880)\t0.18122657392449676\n",
      "  (199, 13408)\t0.0404865740454886\n",
      "  (199, 9042)\t0.060657031475014486\n",
      "  (199, 11175)\t0.04072004050103649\n",
      "  (199, 11659)\t0.14085537358328507\n",
      "  (199, 12792)\t0.10065626399893846\n",
      "  (199, 14554)\t0.10065123156247813\n",
      "  (199, 16466)\t0.1207331773571015\n",
      "  (199, 15726)\t0.14085537358328507\n",
      "  (199, 17876)\t0.060988508250121067\n",
      "  (199, 17214)\t0.1409962923898327\n",
      "  (199, 7418)\t0.1610017170489682\n",
      "  (199, 10423)\t0.04066713815338559\n",
      "  (199, 230)\t0.36219953207130445\n",
      "  (199, 19136)\t0.08201220198337147\n",
      "  (199, 9600)\t0.16097756980946865\n",
      "  (199, 12414)\t0.06693818726857662\n"
     ]
    }
   ],
   "source": [
    "Y_pred = clf.predict(X_test) \n",
    "print(X_test)\n",
    "import warnings\n",
    "warnings.filterwarnings('ignore')"
   ]
  },
  {
   "cell_type": "code",
   "execution_count": 15,
   "metadata": {},
   "outputs": [
    {
     "name": "stdout",
     "output_type": "stream",
     "text": [
      "                                                       precision    recall  f1-score   support\n",
      "\n",
      "Abhinl Fashion Cotton Printed Semi-stitched Salw...\"]       0.00      0.00      0.00         1\n",
      "                                          Automotive        1.00      1.00      1.00         9\n",
      "                                           Baby Care        1.00      0.40      0.57         5\n",
      "                               Bags, Wallets & Belts        1.00      1.00      1.00         1\n",
      "                            Beauty and Personal Care        0.83      1.00      0.91         5\n",
      "Car vastra 1pcs Car Vastra Honda Beige Backrest ...\"]       0.00      0.00      0.00         1\n",
      "                                            Clothing        0.95      1.00      0.98        63\n",
      "                   Clovia Women's Full Coverage Bra\"]       0.00      0.00      0.00         1\n",
      "                                           Computers        1.00      1.00      1.00         4\n",
      "                                            Footwear        1.00      1.00      1.00        15\n",
      "                                           Furniture        1.00      1.00      1.00         2\n",
      "                   Health & Personal Care Appliances        0.00      0.00      0.00         0\n",
      "                          Home Decor & Festive Needs        1.00      1.00      1.00         8\n",
      "                                     Home Furnishing        0.82      1.00      0.90         9\n",
      "                                           Jewellery        1.00      1.00      1.00        40\n",
      "                                    Kitchen & Dining        1.00      1.00      1.00         6\n",
      "                               Mobiles & Accessories        1.00      1.00      1.00        10\n",
      "                                   Pens & Stationery        1.00      0.75      0.86         4\n",
      "Pia International 10X70X70 WITH ZOOM SAKURA Bino...\"]       0.00      0.00      0.00         1\n",
      "       SJ Comet Zoom DPSI Binoculars (30 mm, Black)\"]       0.00      0.00      0.00         0\n",
      "                                    Sports & Fitness        1.00      1.00      1.00         2\n",
      "                                    Tools & Hardware        1.00      0.83      0.91         6\n",
      "                              Toys & School Supplies        0.50      1.00      0.67         1\n",
      "                                             Watches        1.00      1.00      1.00         6\n",
      "\n",
      "                                             accuracy                           0.95       200\n",
      "                                            macro avg       0.71      0.71      0.70       200\n",
      "                                         weighted avg       0.95      0.95      0.95       200\n",
      "\n"
     ]
    }
   ],
   "source": [
    "print(classification_report(Y_test, Y_pred))"
   ]
  },
  {
   "cell_type": "code",
   "execution_count": null,
   "metadata": {},
   "outputs": [],
   "source": []
  }
 ],
 "metadata": {
  "kernelspec": {
   "display_name": "Python 3",
   "language": "python",
   "name": "python3"
  },
  "language_info": {
   "codemirror_mode": {
    "name": "ipython",
    "version": 3
   },
   "file_extension": ".py",
   "mimetype": "text/x-python",
   "name": "python",
   "nbconvert_exporter": "python",
   "pygments_lexer": "ipython3",
   "version": "3.8.5"
  }
 },
 "nbformat": 4,
 "nbformat_minor": 4
}
